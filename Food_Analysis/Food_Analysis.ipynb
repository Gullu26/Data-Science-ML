{
 "cells": [
  {
   "cell_type": "code",
   "execution_count": 1,
   "metadata": {},
   "outputs": [],
   "source": [
    "import numpy as np\n",
    "import pandas as pd\n",
    "import matplotlib.pyplot as plt\n",
    "import seaborn as sns"
   ]
  },
  {
   "cell_type": "code",
   "execution_count": 15,
   "metadata": {},
   "outputs": [],
   "source": [
    "data=pd.read_excel(\"~/Desktop/Food_Analysis/Data_Train.xlsx\")\n",
    "test=pd.read_excel(\"~/Desktop/Food_Analysis/Data_Test.xlsx\")"
   ]
  },
  {
   "cell_type": "code",
   "execution_count": 16,
   "metadata": {},
   "outputs": [
    {
     "data": {
      "text/html": [
       "<div>\n",
       "<style scoped>\n",
       "    .dataframe tbody tr th:only-of-type {\n",
       "        vertical-align: middle;\n",
       "    }\n",
       "\n",
       "    .dataframe tbody tr th {\n",
       "        vertical-align: top;\n",
       "    }\n",
       "\n",
       "    .dataframe thead th {\n",
       "        text-align: right;\n",
       "    }\n",
       "</style>\n",
       "<table border=\"1\" class=\"dataframe\">\n",
       "  <thead>\n",
       "    <tr style=\"text-align: right;\">\n",
       "      <th></th>\n",
       "      <th>ID</th>\n",
       "      <th>Date</th>\n",
       "      <th>LicenseNo</th>\n",
       "      <th>FacilityID</th>\n",
       "      <th>FacilityName</th>\n",
       "      <th>Type</th>\n",
       "      <th>Street</th>\n",
       "      <th>City</th>\n",
       "      <th>State</th>\n",
       "      <th>LocationID</th>\n",
       "      <th>Reason</th>\n",
       "      <th>SectionViolations</th>\n",
       "      <th>RiskLevel</th>\n",
       "      <th>Geo_Loc</th>\n",
       "      <th>Inspection_Results</th>\n",
       "    </tr>\n",
       "  </thead>\n",
       "  <tbody>\n",
       "    <tr>\n",
       "      <th>0</th>\n",
       "      <td>31103489027986</td>\n",
       "      <td>26-04-2010</td>\n",
       "      <td>4744</td>\n",
       "      <td>8123</td>\n",
       "      <td>7715</td>\n",
       "      <td>RESTAURANT</td>\n",
       "      <td>15522</td>\n",
       "      <td>id-11235901</td>\n",
       "      <td>id_1890134</td>\n",
       "      <td>81876.0</td>\n",
       "      <td>CANVASS</td>\n",
       "      <td>33.0</td>\n",
       "      <td>High</td>\n",
       "      <td>locid16406</td>\n",
       "      <td>4</td>\n",
       "    </tr>\n",
       "    <tr>\n",
       "      <th>1</th>\n",
       "      <td>10088999935915</td>\n",
       "      <td>21-06-2009</td>\n",
       "      <td>2973</td>\n",
       "      <td>12268</td>\n",
       "      <td>11664</td>\n",
       "      <td>GROCERY STORE</td>\n",
       "      <td>3057</td>\n",
       "      <td>id-11235901</td>\n",
       "      <td>id_1890134</td>\n",
       "      <td>81862.0</td>\n",
       "      <td>COMPLAINT</td>\n",
       "      <td>33.0</td>\n",
       "      <td>High</td>\n",
       "      <td>locid878</td>\n",
       "      <td>4</td>\n",
       "    </tr>\n",
       "    <tr>\n",
       "      <th>2</th>\n",
       "      <td>40148966010272</td>\n",
       "      <td>01-05-2013</td>\n",
       "      <td>18223</td>\n",
       "      <td>1112</td>\n",
       "      <td>969</td>\n",
       "      <td>RESTAURANT</td>\n",
       "      <td>14988</td>\n",
       "      <td>id-11235901</td>\n",
       "      <td>id_1890134</td>\n",
       "      <td>81883.0</td>\n",
       "      <td>CANVASS</td>\n",
       "      <td>NaN</td>\n",
       "      <td>High</td>\n",
       "      <td>locid3368</td>\n",
       "      <td>6</td>\n",
       "    </tr>\n",
       "    <tr>\n",
       "      <th>3</th>\n",
       "      <td>37157708563676</td>\n",
       "      <td>28-09-2015</td>\n",
       "      <td>20825</td>\n",
       "      <td>20007</td>\n",
       "      <td>19115</td>\n",
       "      <td>RESTAURANT</td>\n",
       "      <td>3661</td>\n",
       "      <td>id-11235901</td>\n",
       "      <td>id_1890134</td>\n",
       "      <td>81859.0</td>\n",
       "      <td>CANVASS RE-INSPECTION</td>\n",
       "      <td>31.0</td>\n",
       "      <td>Medium</td>\n",
       "      <td>locid11839</td>\n",
       "      <td>4</td>\n",
       "    </tr>\n",
       "    <tr>\n",
       "      <th>4</th>\n",
       "      <td>47478049564374</td>\n",
       "      <td>09-12-2015</td>\n",
       "      <td>2136</td>\n",
       "      <td>16867</td>\n",
       "      <td>10409</td>\n",
       "      <td>RESTAURANT</td>\n",
       "      <td>7876</td>\n",
       "      <td>id-11235901</td>\n",
       "      <td>id_1890134</td>\n",
       "      <td>81886.0</td>\n",
       "      <td>COMPLAINT</td>\n",
       "      <td>30.0</td>\n",
       "      <td>High</td>\n",
       "      <td>locid12264</td>\n",
       "      <td>4</td>\n",
       "    </tr>\n",
       "  </tbody>\n",
       "</table>\n",
       "</div>"
      ],
      "text/plain": [
       "               ID        Date  LicenseNo  FacilityID  FacilityName  \\\n",
       "0  31103489027986  26-04-2010       4744        8123          7715   \n",
       "1  10088999935915  21-06-2009       2973       12268         11664   \n",
       "2  40148966010272  01-05-2013      18223        1112           969   \n",
       "3  37157708563676  28-09-2015      20825       20007         19115   \n",
       "4  47478049564374  09-12-2015       2136       16867         10409   \n",
       "\n",
       "            Type  Street         City       State  LocationID  \\\n",
       "0     RESTAURANT   15522  id-11235901  id_1890134     81876.0   \n",
       "1  GROCERY STORE    3057  id-11235901  id_1890134     81862.0   \n",
       "2     RESTAURANT   14988  id-11235901  id_1890134     81883.0   \n",
       "3     RESTAURANT    3661  id-11235901  id_1890134     81859.0   \n",
       "4     RESTAURANT    7876  id-11235901  id_1890134     81886.0   \n",
       "\n",
       "                  Reason  SectionViolations RiskLevel     Geo_Loc  \\\n",
       "0                CANVASS               33.0      High  locid16406   \n",
       "1              COMPLAINT               33.0      High    locid878   \n",
       "2                CANVASS                NaN      High   locid3368   \n",
       "3  CANVASS RE-INSPECTION               31.0    Medium  locid11839   \n",
       "4              COMPLAINT               30.0      High  locid12264   \n",
       "\n",
       "   Inspection_Results  \n",
       "0                   4  \n",
       "1                   4  \n",
       "2                   6  \n",
       "3                   4  \n",
       "4                   4  "
      ]
     },
     "execution_count": 16,
     "metadata": {},
     "output_type": "execute_result"
    }
   ],
   "source": [
    "data.head(5)"
   ]
  },
  {
   "cell_type": "code",
   "execution_count": 17,
   "metadata": {},
   "outputs": [
    {
     "data": {
      "text/html": [
       "<div>\n",
       "<style scoped>\n",
       "    .dataframe tbody tr th:only-of-type {\n",
       "        vertical-align: middle;\n",
       "    }\n",
       "\n",
       "    .dataframe tbody tr th {\n",
       "        vertical-align: top;\n",
       "    }\n",
       "\n",
       "    .dataframe thead th {\n",
       "        text-align: right;\n",
       "    }\n",
       "</style>\n",
       "<table border=\"1\" class=\"dataframe\">\n",
       "  <thead>\n",
       "    <tr style=\"text-align: right;\">\n",
       "      <th></th>\n",
       "      <th>ID</th>\n",
       "      <th>LicenseNo</th>\n",
       "      <th>FacilityID</th>\n",
       "      <th>FacilityName</th>\n",
       "      <th>Street</th>\n",
       "      <th>LocationID</th>\n",
       "      <th>SectionViolations</th>\n",
       "      <th>Inspection_Results</th>\n",
       "    </tr>\n",
       "  </thead>\n",
       "  <tbody>\n",
       "    <tr>\n",
       "      <th>count</th>\n",
       "      <td>1.474430e+05</td>\n",
       "      <td>147443.000000</td>\n",
       "      <td>147443.000000</td>\n",
       "      <td>147443.000000</td>\n",
       "      <td>147443.000000</td>\n",
       "      <td>147408.000000</td>\n",
       "      <td>108375.000000</td>\n",
       "      <td>147443.000000</td>\n",
       "    </tr>\n",
       "    <tr>\n",
       "      <th>mean</th>\n",
       "      <td>2.997142e+13</td>\n",
       "      <td>17726.613003</td>\n",
       "      <td>14020.779583</td>\n",
       "      <td>13377.891009</td>\n",
       "      <td>8684.119653</td>\n",
       "      <td>81873.642156</td>\n",
       "      <td>24.129153</td>\n",
       "      <td>3.680405</td>\n",
       "    </tr>\n",
       "    <tr>\n",
       "      <th>std</th>\n",
       "      <td>1.154808e+13</td>\n",
       "      <td>10865.050018</td>\n",
       "      <td>7794.382869</td>\n",
       "      <td>7408.148606</td>\n",
       "      <td>5255.991577</td>\n",
       "      <td>140.248846</td>\n",
       "      <td>12.657456</td>\n",
       "      <td>1.481441</td>\n",
       "    </tr>\n",
       "    <tr>\n",
       "      <th>min</th>\n",
       "      <td>1.000014e+13</td>\n",
       "      <td>0.000000</td>\n",
       "      <td>0.000000</td>\n",
       "      <td>0.000000</td>\n",
       "      <td>0.000000</td>\n",
       "      <td>31259.000000</td>\n",
       "      <td>1.000000</td>\n",
       "      <td>0.000000</td>\n",
       "    </tr>\n",
       "    <tr>\n",
       "      <th>25%</th>\n",
       "      <td>1.994861e+13</td>\n",
       "      <td>8588.000000</td>\n",
       "      <td>7347.000000</td>\n",
       "      <td>6993.000000</td>\n",
       "      <td>4109.000000</td>\n",
       "      <td>81859.000000</td>\n",
       "      <td>14.000000</td>\n",
       "      <td>4.000000</td>\n",
       "    </tr>\n",
       "    <tr>\n",
       "      <th>50%</th>\n",
       "      <td>2.999146e+13</td>\n",
       "      <td>17056.000000</td>\n",
       "      <td>14256.000000</td>\n",
       "      <td>13710.000000</td>\n",
       "      <td>8541.000000</td>\n",
       "      <td>81870.000000</td>\n",
       "      <td>31.000000</td>\n",
       "      <td>4.000000</td>\n",
       "    </tr>\n",
       "    <tr>\n",
       "      <th>75%</th>\n",
       "      <td>3.995723e+13</td>\n",
       "      <td>26163.000000</td>\n",
       "      <td>20841.000000</td>\n",
       "      <td>19795.000000</td>\n",
       "      <td>13321.000000</td>\n",
       "      <td>81888.000000</td>\n",
       "      <td>33.000000</td>\n",
       "      <td>4.000000</td>\n",
       "    </tr>\n",
       "    <tr>\n",
       "      <th>max</th>\n",
       "      <td>4.999987e+13</td>\n",
       "      <td>37394.000000</td>\n",
       "      <td>27276.000000</td>\n",
       "      <td>26032.000000</td>\n",
       "      <td>17891.000000</td>\n",
       "      <td>82072.000000</td>\n",
       "      <td>70.000000</td>\n",
       "      <td>6.000000</td>\n",
       "    </tr>\n",
       "  </tbody>\n",
       "</table>\n",
       "</div>"
      ],
      "text/plain": [
       "                 ID      LicenseNo     FacilityID   FacilityName  \\\n",
       "count  1.474430e+05  147443.000000  147443.000000  147443.000000   \n",
       "mean   2.997142e+13   17726.613003   14020.779583   13377.891009   \n",
       "std    1.154808e+13   10865.050018    7794.382869    7408.148606   \n",
       "min    1.000014e+13       0.000000       0.000000       0.000000   \n",
       "25%    1.994861e+13    8588.000000    7347.000000    6993.000000   \n",
       "50%    2.999146e+13   17056.000000   14256.000000   13710.000000   \n",
       "75%    3.995723e+13   26163.000000   20841.000000   19795.000000   \n",
       "max    4.999987e+13   37394.000000   27276.000000   26032.000000   \n",
       "\n",
       "              Street     LocationID  SectionViolations  Inspection_Results  \n",
       "count  147443.000000  147408.000000      108375.000000       147443.000000  \n",
       "mean     8684.119653   81873.642156          24.129153            3.680405  \n",
       "std      5255.991577     140.248846          12.657456            1.481441  \n",
       "min         0.000000   31259.000000           1.000000            0.000000  \n",
       "25%      4109.000000   81859.000000          14.000000            4.000000  \n",
       "50%      8541.000000   81870.000000          31.000000            4.000000  \n",
       "75%     13321.000000   81888.000000          33.000000            4.000000  \n",
       "max     17891.000000   82072.000000          70.000000            6.000000  "
      ]
     },
     "execution_count": 17,
     "metadata": {},
     "output_type": "execute_result"
    }
   ],
   "source": [
    "data.describe()"
   ]
  },
  {
   "cell_type": "code",
   "execution_count": 18,
   "metadata": {},
   "outputs": [
    {
     "name": "stdout",
     "output_type": "stream",
     "text": [
      "<class 'pandas.core.frame.DataFrame'>\n",
      "RangeIndex: 147443 entries, 0 to 147442\n",
      "Data columns (total 15 columns):\n",
      " #   Column              Non-Null Count   Dtype  \n",
      "---  ------              --------------   -----  \n",
      " 0   ID                  147443 non-null  int64  \n",
      " 1   Date                147443 non-null  object \n",
      " 2   LicenseNo           147443 non-null  int64  \n",
      " 3   FacilityID          147443 non-null  int64  \n",
      " 4   FacilityName        147443 non-null  int64  \n",
      " 5   Type                143958 non-null  object \n",
      " 6   Street              147443 non-null  int64  \n",
      " 7   City                147443 non-null  object \n",
      " 8   State               147443 non-null  object \n",
      " 9   LocationID          147408 non-null  float64\n",
      " 10  Reason              147443 non-null  object \n",
      " 11  SectionViolations   108375 non-null  float64\n",
      " 12  RiskLevel           147443 non-null  object \n",
      " 13  Geo_Loc             147443 non-null  object \n",
      " 14  Inspection_Results  147443 non-null  int64  \n",
      "dtypes: float64(2), int64(6), object(7)\n",
      "memory usage: 16.9+ MB\n"
     ]
    }
   ],
   "source": [
    "data.info()"
   ]
  },
  {
   "cell_type": "code",
   "execution_count": 19,
   "metadata": {},
   "outputs": [
    {
     "data": {
      "text/plain": [
       "ID                   -0.006987\n",
       "LicenseNo            -0.042021\n",
       "FacilityID           -0.004908\n",
       "FacilityName         -0.004162\n",
       "Street               -0.004127\n",
       "LocationID           -0.001862\n",
       "SectionViolations     0.250834\n",
       "Inspection_Results    1.000000\n",
       "Name: Inspection_Results, dtype: float64"
      ]
     },
     "execution_count": 19,
     "metadata": {},
     "output_type": "execute_result"
    }
   ],
   "source": [
    "corr_matrix=data.corr()\n",
    "corr_matrix['Inspection_Results']"
   ]
  },
  {
   "cell_type": "code",
   "execution_count": 20,
   "metadata": {},
   "outputs": [
    {
     "data": {
      "text/plain": [
       "RESTAURANT                      98346\n",
       "GROCERY STORE                   18811\n",
       "SCHOOL                           9140\n",
       "CHILDREN'S SERVICES FACILITY     2320\n",
       "BAKERY                           2212\n",
       "                                ...  \n",
       "TAVERN-LIQUOR                       1\n",
       "DAY CARE COMBO (1586)               1\n",
       "CLOTHING STORE                      1\n",
       "DRUG STORE/W/ FOOD                  1\n",
       "ALTERNATIVE SCHOOL                  1\n",
       "Name: Type, Length: 409, dtype: int64"
      ]
     },
     "execution_count": 20,
     "metadata": {},
     "output_type": "execute_result"
    }
   ],
   "source": [
    "data['Type'].value_counts()"
   ]
  },
  {
   "cell_type": "code",
   "execution_count": 24,
   "metadata": {},
   "outputs": [
    {
     "data": {
      "text/html": [
       "<div>\n",
       "<style scoped>\n",
       "    .dataframe tbody tr th:only-of-type {\n",
       "        vertical-align: middle;\n",
       "    }\n",
       "\n",
       "    .dataframe tbody tr th {\n",
       "        vertical-align: top;\n",
       "    }\n",
       "\n",
       "    .dataframe thead th {\n",
       "        text-align: right;\n",
       "    }\n",
       "</style>\n",
       "<table border=\"1\" class=\"dataframe\">\n",
       "  <thead>\n",
       "    <tr style=\"text-align: right;\">\n",
       "      <th></th>\n",
       "      <th>ID</th>\n",
       "      <th>Date</th>\n",
       "      <th>LicenseNo</th>\n",
       "      <th>FacilityID</th>\n",
       "      <th>FacilityName</th>\n",
       "      <th>Type</th>\n",
       "      <th>Street</th>\n",
       "      <th>City</th>\n",
       "      <th>State</th>\n",
       "      <th>LocationID</th>\n",
       "      <th>Reason</th>\n",
       "      <th>SectionViolations</th>\n",
       "      <th>RiskLevel</th>\n",
       "      <th>Geo_Loc</th>\n",
       "      <th>Inspection_Results</th>\n",
       "      <th>year</th>\n",
       "      <th>month</th>\n",
       "      <th>day</th>\n",
       "    </tr>\n",
       "  </thead>\n",
       "  <tbody>\n",
       "    <tr>\n",
       "      <th>0</th>\n",
       "      <td>31103489027986</td>\n",
       "      <td>26-04-2010</td>\n",
       "      <td>4744</td>\n",
       "      <td>8123</td>\n",
       "      <td>7715</td>\n",
       "      <td>RESTAURANT</td>\n",
       "      <td>15522</td>\n",
       "      <td>id-11235901</td>\n",
       "      <td>id_1890134</td>\n",
       "      <td>81876.0</td>\n",
       "      <td>CANVASS</td>\n",
       "      <td>33.0</td>\n",
       "      <td>High</td>\n",
       "      <td>locid16406</td>\n",
       "      <td>4</td>\n",
       "      <td>2010</td>\n",
       "      <td>04</td>\n",
       "      <td>26</td>\n",
       "    </tr>\n",
       "    <tr>\n",
       "      <th>1</th>\n",
       "      <td>10088999935915</td>\n",
       "      <td>21-06-2009</td>\n",
       "      <td>2973</td>\n",
       "      <td>12268</td>\n",
       "      <td>11664</td>\n",
       "      <td>GROCERY STORE</td>\n",
       "      <td>3057</td>\n",
       "      <td>id-11235901</td>\n",
       "      <td>id_1890134</td>\n",
       "      <td>81862.0</td>\n",
       "      <td>COMPLAINT</td>\n",
       "      <td>33.0</td>\n",
       "      <td>High</td>\n",
       "      <td>locid878</td>\n",
       "      <td>4</td>\n",
       "      <td>2009</td>\n",
       "      <td>06</td>\n",
       "      <td>21</td>\n",
       "    </tr>\n",
       "    <tr>\n",
       "      <th>2</th>\n",
       "      <td>40148966010272</td>\n",
       "      <td>01-05-2013</td>\n",
       "      <td>18223</td>\n",
       "      <td>1112</td>\n",
       "      <td>969</td>\n",
       "      <td>RESTAURANT</td>\n",
       "      <td>14988</td>\n",
       "      <td>id-11235901</td>\n",
       "      <td>id_1890134</td>\n",
       "      <td>81883.0</td>\n",
       "      <td>CANVASS</td>\n",
       "      <td>NaN</td>\n",
       "      <td>High</td>\n",
       "      <td>locid3368</td>\n",
       "      <td>6</td>\n",
       "      <td>2013</td>\n",
       "      <td>05</td>\n",
       "      <td>01</td>\n",
       "    </tr>\n",
       "    <tr>\n",
       "      <th>3</th>\n",
       "      <td>37157708563676</td>\n",
       "      <td>28-09-2015</td>\n",
       "      <td>20825</td>\n",
       "      <td>20007</td>\n",
       "      <td>19115</td>\n",
       "      <td>RESTAURANT</td>\n",
       "      <td>3661</td>\n",
       "      <td>id-11235901</td>\n",
       "      <td>id_1890134</td>\n",
       "      <td>81859.0</td>\n",
       "      <td>CANVASS RE-INSPECTION</td>\n",
       "      <td>31.0</td>\n",
       "      <td>Medium</td>\n",
       "      <td>locid11839</td>\n",
       "      <td>4</td>\n",
       "      <td>2015</td>\n",
       "      <td>09</td>\n",
       "      <td>28</td>\n",
       "    </tr>\n",
       "    <tr>\n",
       "      <th>4</th>\n",
       "      <td>47478049564374</td>\n",
       "      <td>09-12-2015</td>\n",
       "      <td>2136</td>\n",
       "      <td>16867</td>\n",
       "      <td>10409</td>\n",
       "      <td>RESTAURANT</td>\n",
       "      <td>7876</td>\n",
       "      <td>id-11235901</td>\n",
       "      <td>id_1890134</td>\n",
       "      <td>81886.0</td>\n",
       "      <td>COMPLAINT</td>\n",
       "      <td>30.0</td>\n",
       "      <td>High</td>\n",
       "      <td>locid12264</td>\n",
       "      <td>4</td>\n",
       "      <td>2015</td>\n",
       "      <td>12</td>\n",
       "      <td>09</td>\n",
       "    </tr>\n",
       "  </tbody>\n",
       "</table>\n",
       "</div>"
      ],
      "text/plain": [
       "               ID        Date  LicenseNo  FacilityID  FacilityName  \\\n",
       "0  31103489027986  26-04-2010       4744        8123          7715   \n",
       "1  10088999935915  21-06-2009       2973       12268         11664   \n",
       "2  40148966010272  01-05-2013      18223        1112           969   \n",
       "3  37157708563676  28-09-2015      20825       20007         19115   \n",
       "4  47478049564374  09-12-2015       2136       16867         10409   \n",
       "\n",
       "            Type  Street         City       State  LocationID  \\\n",
       "0     RESTAURANT   15522  id-11235901  id_1890134     81876.0   \n",
       "1  GROCERY STORE    3057  id-11235901  id_1890134     81862.0   \n",
       "2     RESTAURANT   14988  id-11235901  id_1890134     81883.0   \n",
       "3     RESTAURANT    3661  id-11235901  id_1890134     81859.0   \n",
       "4     RESTAURANT    7876  id-11235901  id_1890134     81886.0   \n",
       "\n",
       "                  Reason  SectionViolations RiskLevel     Geo_Loc  \\\n",
       "0                CANVASS               33.0      High  locid16406   \n",
       "1              COMPLAINT               33.0      High    locid878   \n",
       "2                CANVASS                NaN      High   locid3368   \n",
       "3  CANVASS RE-INSPECTION               31.0    Medium  locid11839   \n",
       "4              COMPLAINT               30.0      High  locid12264   \n",
       "\n",
       "   Inspection_Results  year month day  \n",
       "0                   4  2010    04  26  \n",
       "1                   4  2009    06  21  \n",
       "2                   6  2013    05  01  \n",
       "3                   4  2015    09  28  \n",
       "4                   4  2015    12  09  "
      ]
     },
     "execution_count": 24,
     "metadata": {},
     "output_type": "execute_result"
    }
   ],
   "source": [
    "data['year']=data['Date'].apply(lambda x:x.split('-')[2])\n",
    "data['month']=data['Date'].apply(lambda x:x.split('-')[1])\n",
    "data['day']=data['Date'].apply(lambda x:x.split('-')[0].split('T')[0])\n",
    "data.head()"
   ]
  },
  {
   "cell_type": "code",
   "execution_count": 76,
   "metadata": {},
   "outputs": [
    {
     "data": {
      "text/plain": [
       "Text(0.5, 0, '')"
      ]
     },
     "execution_count": 76,
     "metadata": {},
     "output_type": "execute_result"
    },
    {
     "data": {
      "image/png": "[encoded data removed]",
      "text/plain": [
       "<Figure size 1440x1440 with 4 Axes>"
      ]
     },
     "metadata": {
      "needs_background": "light"
     },
     "output_type": "display_data"
    }
   ],
   "source": [
    "fig,ax=plt.subplots(2,2,figsize=(20,20))\n",
    "x=data.year.value_counts().index\n",
    "y=data.year.value_counts()\n",
    "sns.barplot(x=x,y=y,ax=ax[0,0])\n",
    "ax[0,0].set_title(\"The counts of inspection by year\",size=20)\n",
    "ax[0,0].set_ylabel('counts',size=18)\n",
    "ax[0,0].set_xlabel('')\n",
    "\n",
    "x=data.month.value_counts().index\n",
    "y=data.month.value_counts()\n",
    "sns.barplot(x=x,y=y,ax=ax[0,1])\n",
    "ax[0,1].set_title(\"The counts of inspection by month\",size=20)\n",
    "ax[0,1].set_ylabel('counts',size=18)\n",
    "ax[0,1].set_xlabel('')\n",
    "\n",
    "x=data.day.value_counts().index\n",
    "y=data.day.value_counts()\n",
    "sns.barplot(x=x,y=y,ax=ax[1,0])\n",
    "ax[1,0].set_title(\"The counts of inspection by day\",size=20)\n",
    "ax[1,0].set_ylabel('counts',size=18)\n",
    "ax[1,0].set_xlabel('')\n",
    "\n",
    "#data.groupby(['year','month'])['ID'].agg('count').unstack('year').plot(ax=ax[1,1])\n",
    "#ax[1,1].set_title(\"The counts of inspection for every month by year\",size=20)\n",
    "#ax[1,1].set_ylabel('counts',size=18)\n",
    "#ax[1,1].set_xlabel('month')"
   ]
  },
  {
   "cell_type": "code",
   "execution_count": 45,
   "metadata": {},
   "outputs": [],
   "source": [
    "x=data.groupby(['year','RiskLevel','Type'])['Type'].count()"
   ]
  },
  {
   "cell_type": "code",
   "execution_count": 47,
   "metadata": {},
   "outputs": [
    {
     "data": {
      "text/plain": [
       "year  RiskLevel  Type                              \n",
       "2009  High       1023                                  1\n",
       "                 1023 CHILDERN'S SERVICE S FACILITY    2\n",
       "                 1023 CHILDERN'S SERVICES FACILITY     2\n",
       "                 1023-CHILDREN'S SERVICES FACILITY     2\n",
       "                 1584-DAY CARE ABOVE 2 YEARS           1\n",
       "                                                      ..\n",
       "      Low        CONVENIENCE/DRUG STORE                1\n",
       "                 CONVNIENCE STORE                      1\n",
       "                 DAYCARE (2 - 6 YEARS)                 3\n",
       "                 DOLLAR STORE                          1\n",
       "                 DRUG STORE/W/ FOOD                    1\n",
       "Name: Type, Length: 100, dtype: int64"
      ]
     },
     "execution_count": 47,
     "metadata": {},
     "output_type": "execute_result"
    }
   ],
   "source": [
    "x.head(100)"
   ]
  },
  {
   "cell_type": "code",
   "execution_count": 75,
   "metadata": {},
   "outputs": [
    {
     "data": {
      "text/plain": [
       "RESTAURANT                         78947\n",
       "SCHOOL                              8206\n",
       "GROCERY STORE                       5780\n",
       "CHILDREN'S SERVICES FACILITY        2309\n",
       "DAYCARE (2 - 6 YEARS)               1987\n",
       "DAYCARE ABOVE AND UNDER 2 YEARS     1796\n",
       "LONG TERM CARE                       989\n",
       "CATERING                             867\n",
       "BAKERY                               852\n",
       "DAYCARE COMBO 1586                   547\n",
       "Name: Type, dtype: int64"
      ]
     },
     "execution_count": 75,
     "metadata": {},
     "output_type": "execute_result"
    }
   ],
   "source": [
    "data_risk1=data[data.RiskLevel=='High']\n",
    "p=data_risk1['Type'].value_counts()[:10]\n",
    "p\n",
    "#p.shape"
   ]
  },
  {
   "cell_type": "code",
   "execution_count": 73,
   "metadata": {},
   "outputs": [
    {
     "data": {
      "text/plain": [
       "GROCERY STORE                    6681\n",
       "RESTAURANT                        993\n",
       "LIQUOR                            598\n",
       "MOBILE FOOD DISPENSER             562\n",
       "TAVERN                            224\n",
       "SCHOOL                            199\n",
       "WHOLESALE                         196\n",
       "GAS STATION                        86\n",
       "MOBILE PREPARED FOOD VENDOR        78\n",
       "MOBILE FROZEN DESSERTS VENDOR      50\n",
       "Name: Type, dtype: int64"
      ]
     },
     "execution_count": 73,
     "metadata": {},
     "output_type": "execute_result"
    }
   ],
   "source": [
    "data_risk2=data[data.RiskLevel=='Low']\n",
    "q=data_risk2['Type'].value_counts()[:10]\n",
    "q"
   ]
  },
  {
   "cell_type": "code",
   "execution_count": 74,
   "metadata": {},
   "outputs": [
    {
     "data": {
      "text/plain": [
       "RESTAURANT               18402\n",
       "GROCERY STORE             6348\n",
       "BAKERY                    1343\n",
       "SCHOOL                     735\n",
       "MOBILE FOOD PREPARER       437\n",
       "WHOLESALE                  132\n",
       "SPECIAL EVENT               79\n",
       "KIOSK                       70\n",
       "MOBILE FOOD DISPENSER       67\n",
       "LIVE POULTRY                58\n",
       "Name: Type, dtype: int64"
      ]
     },
     "execution_count": 74,
     "metadata": {},
     "output_type": "execute_result"
    }
   ],
   "source": [
    "data_risk1=data[data.RiskLevel=='Medium']\n",
    "r=data_risk1['Type'].value_counts()[:10]\n",
    "r"
   ]
  },
  {
   "cell_type": "code",
   "execution_count": 93,
   "metadata": {},
   "outputs": [
    {
     "data": {
      "text/plain": [
       "Reason   Type                                RiskLevel\n",
       "CANVASS  (CONVENIENCE STORE)                 Low           1\n",
       "         1023                                High          4\n",
       "         1023 CHILDERN'S SERVICE FACILITY    High          2\n",
       "         1023 CHILDERN'S SERVICE S FACILITY  High          3\n",
       "         1023 CHILDERN'S SERVICES FACILITY   High         13\n",
       "                                                          ..\n",
       "         CONVENIENCE STORE                   Low          12\n",
       "                                             Medium       11\n",
       "         CONVENIENCE/DRUG STORE              Low           1\n",
       "         COOKING SCHOOL                      High         13\n",
       "         CULINARY ARTS SCHOOL                High          5\n",
       "Name: Type, Length: 100, dtype: int64"
      ]
     },
     "execution_count": 93,
     "metadata": {},
     "output_type": "execute_result"
    }
   ],
   "source": [
    "data.groupby(['Reason','Type','RiskLevel'])['Type'].count()[:100]"
   ]
  },
  {
   "cell_type": "code",
   "execution_count": 117,
   "metadata": {},
   "outputs": [
    {
     "data": {
      "text/plain": [
       "ID                        0\n",
       "Date                      0\n",
       "LicenseNo                 0\n",
       "FacilityID                0\n",
       "FacilityName              0\n",
       "Type                   3485\n",
       "Street                    0\n",
       "City                      0\n",
       "State                     0\n",
       "LocationID               35\n",
       "Reason                    0\n",
       "SectionViolations     39068\n",
       "RiskLevel                 0\n",
       "Geo_Loc                   0\n",
       "Inspection_Results        0\n",
       "year                      0\n",
       "month                     0\n",
       "day                       0\n",
       "dtype: int64"
      ]
     },
     "execution_count": 117,
     "metadata": {},
     "output_type": "execute_result"
    }
   ],
   "source": [
    "data.isna().sum(axis=0)"
   ]
  },
  {
   "cell_type": "markdown",
   "metadata": {},
   "source": [
    "### Type, LocationID, SectionViolations contains NAN values"
   ]
  },
  {
   "cell_type": "code",
   "execution_count": null,
   "metadata": {},
   "outputs": [],
   "source": []
  }
 ],
 "metadata": {
  "kernelspec": {
   "display_name": "Python 3",
   "language": "python",
   "name": "python3"
  },
  "language_info": {
   "codemirror_mode": {
    "name": "ipython",
    "version": 3
   },
   "file_extension": ".py",
   "mimetype": "text/x-python",
   "name": "python",
   "nbconvert_exporter": "python",
   "pygments_lexer": "ipython3",
   "version": "3.8.2"
  }
 },
 "nbformat": 4,
 "nbformat_minor": 4
}
